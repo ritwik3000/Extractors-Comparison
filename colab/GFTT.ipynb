{
  "nbformat": 4,
  "nbformat_minor": 0,
  "metadata": {
    "colab": {
      "name": "GFTT.ipynb",
      "provenance": [],
      "collapsed_sections": []
    },
    "kernelspec": {
      "name": "python3",
      "display_name": "Python 3"
    },
    "language_info": {
      "name": "python"
    }
  },
  "cells": [
    {
      "cell_type": "code",
      "metadata": {
        "id": "MW7HEXnpFaer"
      },
      "source": [
        ""
      ],
      "execution_count": null,
      "outputs": []
    },
    {
      "cell_type": "code",
      "metadata": {
        "id": "r1ChQ_GT8dAt",
        "colab": {
          "resources": {
            "http://localhost:8080/nbextensions/google.colab/files.js": {
              "data": "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",
              "ok": true,
              "headers": [
                [
                  "content-type",
                  "application/javascript"
                ]
              ],
              "status": 200,
              "status_text": ""
            }
          },
          "base_uri": "https://localhost:8080/",
          "height": 306
        },
        "outputId": "b821c514-2731-4948-dc95-9a82003bd015"
      },
      "source": [
        "from google.colab import files\n",
        "files.upload()\n",
        "\n"
      ],
      "execution_count": null,
      "outputs": [
        {
          "output_type": "display_data",
          "data": {
            "text/html": [
              "\n",
              "     <input type=\"file\" id=\"files-db0eeec6-2ff8-4c7a-807b-eadb5bc607c3\" name=\"files[]\" multiple disabled\n",
              "        style=\"border:none\" />\n",
              "     <output id=\"result-db0eeec6-2ff8-4c7a-807b-eadb5bc607c3\">\n",
              "      Upload widget is only available when the cell has been executed in the\n",
              "      current browser session. Please rerun this cell to enable.\n",
              "      </output>\n",
              "      <script src=\"/nbextensions/google.colab/files.js\"></script> "
            ],
            "text/plain": [
              "<IPython.core.display.HTML object>"
            ]
          },
          "metadata": {
            "tags": []
          }
        },
        {
          "output_type": "stream",
          "text": [
            "Saving sunny-right.mp4 to sunny-right.mp4\n",
            "Saving sunny-left.mp4 to sunny-left.mp4\n",
            "Saving rainy-right.mp4 to rainy-right.mp4\n",
            "Saving rainy-left.mp4 to rainy-left.mp4\n",
            "Saving foggy-right.mp4 to foggy-right.mp4\n",
            "Saving foggy-left.mp4 to foggy-left.mp4\n",
            "Saving cloudy-right.mp4 to cloudy-right.mp4\n",
            "Saving cloudy-left.mp4 to cloudy-left.mp4\n"
          ],
          "name": "stdout"
        }
      ]
    },
    {
      "cell_type": "code",
      "metadata": {
        "id": "IWqQd1O-WPnB"
      },
      "source": [
        "#visualise the uploaded video files\n",
        "from IPython.display import HTML\n",
        "from base64 import b64encode\n",
        "\n",
        "def play(filename):\n",
        "    html = ''\n",
        "    video = open(filename,'rb').read()\n",
        "    src = 'data:video/mp4;base64,' + b64encode(video).decode()\n",
        "    html += '<video width=1000 controls autoplay loop><source src=\"%s\" type=\"video/mp4\"></video>' % src \n",
        "    return HTML(html)\n",
        "\n",
        "play('cloudy-left.mp4')"
      ],
      "execution_count": null,
      "outputs": []
    },
    {
      "cell_type": "code",
      "metadata": {
        "colab": {
          "base_uri": "https://localhost:8080/"
        },
        "id": "c1912blwHlA0",
        "outputId": "03d42c69-35c7-446c-9c52-ca7cad3f607c"
      },
      "source": [
        "import cv2\n",
        "import numpy as np\n",
        "import time\n",
        "start_time = time.time()\n",
        "cap_l = cv2.VideoCapture('/content/sunny-left.mp4')\n",
        "cap_r = cv2.VideoCapture('/content/sunny-right.mp4')\n",
        "gftt = cv2.GFTTDetector_create()\n",
        "orb = cv2.ORB_create()\n",
        "bf = cv2.BFMatcher(cv2.NORM_HAMMING, crossCheck=True)\n",
        "\n",
        "\n",
        "kp_l_list = []\n",
        "kp_l_vs_time_list = []\n",
        "kp_r_list = []\n",
        "kp_r_vs_time_list = []\n",
        "matches_list = []\n",
        "matches_vs_time_list = []\n",
        "fps_list = []\n",
        "fps_vs_time_list = []\n",
        "\n",
        "\n",
        "\n",
        "while True:\n",
        "    _l,frame_l = cap_l.read()\n",
        "    _r,frame_r = cap_r.read()\n",
        "    \n",
        "    if _l is True and _r is True:\n",
        "      \n",
        "      start_time_fps = time.time()\n",
        "\n",
        "      frame_l = cv2.resize(frame_l,None,fx=0.4,fy=0.4,interpolation=cv2.INTER_AREA)\n",
        "      frame_r = cv2.resize(frame_r,None,fx=0.4,fy=0.4,interpolation=cv2.INTER_AREA)\n",
        "\n",
        "      gray_l= cv2.cvtColor(frame_l, cv2.COLOR_BGR2GRAY)\n",
        "      gray_r= cv2.cvtColor(frame_r, cv2.COLOR_BGR2GRAY)\n",
        "\n",
        "      kp_l = gftt.detect(gray_l,None)\n",
        "      kp_r = gftt.detect(gray_r,None)\n",
        "\n",
        "      kp_l,des_l = orb.compute(gray_l,kp_l)\n",
        "      kp_r,des_r = orb.compute(gray_r,kp_r)\n",
        "\n",
        "      if des_l is not None and des_r is not None:\n",
        "\n",
        "        matches = bf.match(des_l,des_r)\n",
        "        matches_list.append(len(matches))\n",
        "        matches_vs_time_list.append([time.time() - start_time,len(matches)])\n",
        "\n",
        "        kp_l_list.append(len(kp_l))\n",
        "        kp_l_vs_time_list.append([time.time() - start_time,len(kp_l)])\n",
        "        kp_r_list.append(len(kp_r))\n",
        "        kp_r_vs_time_list.append([time.time() - start_time,len(kp_r)])\n",
        "\n",
        "\n",
        "        fps = 1/(time.time()-start_time_fps)\n",
        "        fps = int(fps)\n",
        "        fps_list.append(fps)\n",
        "        fps_vs_time_list.append([time.time() - start_time,fps])\n",
        "      \n",
        "      else:\n",
        "        pass\n",
        "\n",
        "    else:\n",
        "      print(\"Avg. Keypoints Left:\",sum(kp_l_list)/len(kp_l_list))\n",
        "      np.savetxt(\"gftt_sunny_kp_left_vs_time.csv\", kp_l_vs_time_list,delimiter =\", \",fmt ='% s')\n",
        "\n",
        "      print(\"Avg. Keypoints Right:\",sum(kp_r_list)/len(kp_r_list))\n",
        "      np.savetxt(\"gftt_sunny_kp_right_vs_time.csv\", kp_r_vs_time_list,delimiter =\", \",fmt ='% s')\n",
        "\n",
        "      print(\"Avg. Matches:\",sum(matches_list)/len(matches_list))\n",
        "      np.savetxt(\"gftt_sunny_matches_vs_time.csv\", matches_vs_time_list,delimiter =\", \",fmt ='% s')\n",
        "\n",
        "      print(\"Avg. fps:\",sum(fps_list)/len(fps_list))\n",
        "      np.savetxt(\"gftt_sunny_fps_vs_time.csv\", fps_vs_time_list,delimiter =\", \",fmt ='% s')\n",
        "      \n",
        "      t = time.time() - start_time\n",
        "      print(\"Execution Time:\",t,\"secs\")\n",
        "      print(\"Finished!\")\n",
        "      \n",
        "      break"
      ],
      "execution_count": null,
      "outputs": [
        {
          "output_type": "stream",
          "text": [
            "Avg. Keypoints Left: 506.152\n",
            "Avg. Keypoints Right: 518.116\n",
            "Avg. Matches: 300.99\n",
            "Avg. fps: 43.126\n",
            "Execution Time: 14.395965099334717 secs\n",
            "Finished!\n"
          ],
          "name": "stdout"
        }
      ]
    },
    {
      "cell_type": "code",
      "metadata": {
        "colab": {
          "base_uri": "https://localhost:8080/"
        },
        "id": "Baf05DifHsk4",
        "outputId": "b041acd3-2bb6-464a-c7d4-e99d695037a4"
      },
      "source": [
        "start_time = time.time()\n",
        "cap_l = cv2.VideoCapture('/content/cloudy-left.mp4')\n",
        "cap_r = cv2.VideoCapture('/content/cloudy-right.mp4')\n",
        "gftt = cv2.GFTTDetector_create()\n",
        "orb = cv2.ORB_create()\n",
        "bf = cv2.BFMatcher(cv2.NORM_HAMMING, crossCheck=True)\n",
        "\n",
        "\n",
        "kp_l_list = []\n",
        "kp_l_vs_time_list = []\n",
        "kp_r_list = []\n",
        "kp_r_vs_time_list = []\n",
        "matches_list = []\n",
        "matches_vs_time_list = []\n",
        "fps_list = []\n",
        "fps_vs_time_list = []\n",
        "\n",
        "\n",
        "\n",
        "while True:\n",
        "    _l,frame_l = cap_l.read()\n",
        "    _r,frame_r = cap_r.read()\n",
        "    \n",
        "    if _l is True and _r is True:\n",
        "      \n",
        "      start_time_fps = time.time()\n",
        "\n",
        "      frame_l = cv2.resize(frame_l,None,fx=0.4,fy=0.4,interpolation=cv2.INTER_AREA)\n",
        "      frame_r = cv2.resize(frame_r,None,fx=0.4,fy=0.4,interpolation=cv2.INTER_AREA)\n",
        "\n",
        "      gray_l= cv2.cvtColor(frame_l, cv2.COLOR_BGR2GRAY)\n",
        "      gray_r= cv2.cvtColor(frame_r, cv2.COLOR_BGR2GRAY)\n",
        "\n",
        "      kp_l = gftt.detect(gray_l,None)\n",
        "      kp_r = gftt.detect(gray_r,None)\n",
        "\n",
        "      kp_l,des_l = orb.compute(gray_l,kp_l)\n",
        "      kp_r,des_r = orb.compute(gray_r,kp_r)\n",
        "\n",
        "      if des_l is not None and des_r is not None:\n",
        "\n",
        "        matches = bf.match(des_l,des_r)\n",
        "        matches_list.append(len(matches))\n",
        "        matches_vs_time_list.append([time.time() - start_time,len(matches)])\n",
        "\n",
        "        kp_l_list.append(len(kp_l))\n",
        "        kp_l_vs_time_list.append([time.time() - start_time,len(kp_l)])\n",
        "        kp_r_list.append(len(kp_r))\n",
        "        kp_r_vs_time_list.append([time.time() - start_time,len(kp_r)])\n",
        "\n",
        "\n",
        "        fps = 1/(time.time()-start_time_fps)\n",
        "        fps = int(fps)\n",
        "        fps_list.append(fps)\n",
        "        fps_vs_time_list.append([time.time() - start_time,fps])\n",
        "      \n",
        "      else:\n",
        "        pass\n",
        "\n",
        "    else:\n",
        "      print(\"Avg. Keypoints Left:\",sum(kp_l_list)/len(kp_l_list))\n",
        "      np.savetxt(\"gftt_cloudy_kp_left_vs_time.csv\", kp_l_vs_time_list,delimiter =\", \",fmt ='% s')\n",
        "\n",
        "      print(\"Avg. Keypoints Right:\",sum(kp_r_list)/len(kp_r_list))\n",
        "      np.savetxt(\"gftt_cloudy_kp_right_vs_time.csv\", kp_r_vs_time_list,delimiter =\", \",fmt ='% s')\n",
        "\n",
        "      print(\"Avg. Matches:\",sum(matches_list)/len(matches_list))\n",
        "      np.savetxt(\"gftt_cloudy_matches_vs_time.csv\", matches_vs_time_list,delimiter =\", \",fmt ='% s')\n",
        "\n",
        "      print(\"Avg. fps:\",sum(fps_list)/len(fps_list))\n",
        "      np.savetxt(\"gftt_cloudy_fps_vs_time.csv\", fps_vs_time_list,delimiter =\", \",fmt ='% s')\n",
        "      \n",
        "      t = time.time() - start_time\n",
        "      print(\"Execution Time:\",t,\"secs\")\n",
        "      print(\"Finished!\")\n",
        "      \n",
        "      break"
      ],
      "execution_count": null,
      "outputs": [
        {
          "output_type": "stream",
          "text": [
            "Avg. Keypoints Left: 464.704\n",
            "Avg. Keypoints Right: 470.242\n",
            "Avg. Matches: 278.566\n",
            "Avg. fps: 47.416\n",
            "Execution Time: 13.345363140106201 secs\n",
            "Finished!\n"
          ],
          "name": "stdout"
        }
      ]
    },
    {
      "cell_type": "code",
      "metadata": {
        "colab": {
          "base_uri": "https://localhost:8080/"
        },
        "id": "IgFCOMG_HwbX",
        "outputId": "abba2661-1308-400f-9056-f6b54408837e"
      },
      "source": [
        "start_time = time.time()\n",
        "cap_l = cv2.VideoCapture('/content/foggy-left.mp4')\n",
        "cap_r = cv2.VideoCapture('/content/foggy-right.mp4')\n",
        "gftt = cv2.GFTTDetector_create()\n",
        "orb = cv2.ORB_create()\n",
        "bf = cv2.BFMatcher(cv2.NORM_HAMMING, crossCheck=True)\n",
        "\n",
        "\n",
        "kp_l_list = []\n",
        "kp_l_vs_time_list = []\n",
        "kp_r_list = []\n",
        "kp_r_vs_time_list = []\n",
        "matches_list = []\n",
        "matches_vs_time_list = []\n",
        "fps_list = []\n",
        "fps_vs_time_list = []\n",
        "\n",
        "\n",
        "\n",
        "while True:\n",
        "    _l,frame_l = cap_l.read()\n",
        "    _r,frame_r = cap_r.read()\n",
        "    \n",
        "    if _l is True and _r is True:\n",
        "      \n",
        "      start_time_fps = time.time()\n",
        "\n",
        "      frame_l = cv2.resize(frame_l,None,fx=0.4,fy=0.4,interpolation=cv2.INTER_AREA)\n",
        "      frame_r = cv2.resize(frame_r,None,fx=0.4,fy=0.4,interpolation=cv2.INTER_AREA)\n",
        "\n",
        "      gray_l= cv2.cvtColor(frame_l, cv2.COLOR_BGR2GRAY)\n",
        "      gray_r= cv2.cvtColor(frame_r, cv2.COLOR_BGR2GRAY)\n",
        "\n",
        "      kp_l = gftt.detect(gray_l,None)\n",
        "      kp_r = gftt.detect(gray_r,None)\n",
        "\n",
        "      kp_l,des_l = orb.compute(gray_l,kp_l)\n",
        "      kp_r,des_r = orb.compute(gray_r,kp_r)\n",
        "\n",
        "      if des_l is not None and des_r is not None:\n",
        "\n",
        "        matches = bf.match(des_l,des_r)\n",
        "        matches_list.append(len(matches))\n",
        "        matches_vs_time_list.append([time.time() - start_time,len(matches)])\n",
        "\n",
        "        kp_l_list.append(len(kp_l))\n",
        "        kp_l_vs_time_list.append([time.time() - start_time,len(kp_l)])\n",
        "        kp_r_list.append(len(kp_r))\n",
        "        kp_r_vs_time_list.append([time.time() - start_time,len(kp_r)])\n",
        "\n",
        "\n",
        "        fps = 1/(time.time()-start_time_fps)\n",
        "        fps = int(fps)\n",
        "        fps_list.append(fps)\n",
        "        fps_vs_time_list.append([time.time() - start_time,fps])\n",
        "      \n",
        "      else:\n",
        "        pass\n",
        "\n",
        "    else:\n",
        "      print(\"Avg. Keypoints Left:\",sum(kp_l_list)/len(kp_l_list))\n",
        "      np.savetxt(\"gftt_foggy_kp_left_vs_time.csv\", kp_l_vs_time_list,delimiter =\", \",fmt ='% s')\n",
        "\n",
        "      print(\"Avg. Keypoints Right:\",sum(kp_r_list)/len(kp_r_list))\n",
        "      np.savetxt(\"gftt_foggy_kp_right_vs_time.csv\", kp_r_vs_time_list,delimiter =\", \",fmt ='% s')\n",
        "\n",
        "      print(\"Avg. Matches:\",sum(matches_list)/len(matches_list))\n",
        "      np.savetxt(\"gftt_foggy_matches_vs_time.csv\", matches_vs_time_list,delimiter =\", \",fmt ='% s')\n",
        "\n",
        "      print(\"Avg. fps:\",sum(fps_list)/len(fps_list))\n",
        "      np.savetxt(\"gftt_foggy_fps_vs_time.csv\", fps_vs_time_list,delimiter =\", \",fmt ='% s')\n",
        "      \n",
        "      t = time.time() - start_time\n",
        "      print(\"Execution Time:\",t,\"secs\")\n",
        "      print(\"Finished!\")\n",
        "      \n",
        "      break"
      ],
      "execution_count": null,
      "outputs": [
        {
          "output_type": "stream",
          "text": [
            "Avg. Keypoints Left: 260.582\n",
            "Avg. Keypoints Right: 270.478\n",
            "Avg. Matches: 167.168\n",
            "Avg. fps: 65.506\n",
            "Execution Time: 9.537486791610718 secs\n",
            "Finished!\n"
          ],
          "name": "stdout"
        }
      ]
    },
    {
      "cell_type": "code",
      "metadata": {
        "colab": {
          "base_uri": "https://localhost:8080/"
        },
        "id": "1n7ZlOzEHzOv",
        "outputId": "cc80340e-5894-4520-d221-12e955379de1"
      },
      "source": [
        "start_time = time.time()\n",
        "cap_l = cv2.VideoCapture('/content/rainy-left.mp4')\n",
        "cap_r = cv2.VideoCapture('/content/rainy-right.mp4')\n",
        "gftt = cv2.GFTTDetector_create()\n",
        "orb = cv2.ORB_create()\n",
        "bf = cv2.BFMatcher(cv2.NORM_HAMMING, crossCheck=True)\n",
        "\n",
        "\n",
        "kp_l_list = []\n",
        "kp_l_vs_time_list = []\n",
        "kp_r_list = []\n",
        "kp_r_vs_time_list = []\n",
        "matches_list = []\n",
        "matches_vs_time_list = []\n",
        "fps_list = []\n",
        "fps_vs_time_list = []\n",
        "\n",
        "\n",
        "\n",
        "while True:\n",
        "    _l,frame_l = cap_l.read()\n",
        "    _r,frame_r = cap_r.read()\n",
        "    \n",
        "    if _l is True and _r is True:\n",
        "      \n",
        "      start_time_fps = time.time()\n",
        "\n",
        "      frame_l = cv2.resize(frame_l,None,fx=0.4,fy=0.4,interpolation=cv2.INTER_AREA)\n",
        "      frame_r = cv2.resize(frame_r,None,fx=0.4,fy=0.4,interpolation=cv2.INTER_AREA)\n",
        "\n",
        "      gray_l= cv2.cvtColor(frame_l, cv2.COLOR_BGR2GRAY)\n",
        "      gray_r= cv2.cvtColor(frame_r, cv2.COLOR_BGR2GRAY)\n",
        "\n",
        "      kp_l = gftt.detect(gray_l,None)\n",
        "      kp_r = gftt.detect(gray_r,None)\n",
        "\n",
        "      kp_l,des_l = orb.compute(gray_l,kp_l)\n",
        "      kp_r,des_r = orb.compute(gray_r,kp_r)\n",
        "\n",
        "      if des_l is not None and des_r is not None:\n",
        "\n",
        "        matches = bf.match(des_l,des_r)\n",
        "        matches_list.append(len(matches))\n",
        "        matches_vs_time_list.append([time.time() - start_time,len(matches)])\n",
        "\n",
        "        kp_l_list.append(len(kp_l))\n",
        "        kp_l_vs_time_list.append([time.time() - start_time,len(kp_l)])\n",
        "        kp_r_list.append(len(kp_r))\n",
        "        kp_r_vs_time_list.append([time.time() - start_time,len(kp_r)])\n",
        "\n",
        "\n",
        "        fps = 1/(time.time()-start_time_fps)\n",
        "        fps = int(fps)\n",
        "        fps_list.append(fps)\n",
        "        fps_vs_time_list.append([time.time() - start_time,fps])\n",
        "      \n",
        "      else:\n",
        "        pass\n",
        "\n",
        "    else:\n",
        "      print(\"Avg. Keypoints Left:\",sum(kp_l_list)/len(kp_l_list))\n",
        "      np.savetxt(\"gftt_rainy_kp_left_vs_time.csv\", kp_l_vs_time_list,delimiter =\", \",fmt ='% s')\n",
        "\n",
        "      print(\"Avg. Keypoints Right:\",sum(kp_r_list)/len(kp_r_list))\n",
        "      np.savetxt(\"gftt_rainy_kp_right_vs_time.csv\", kp_r_vs_time_list,delimiter =\", \",fmt ='% s')\n",
        "\n",
        "      print(\"Avg. Matches:\",sum(matches_list)/len(matches_list))\n",
        "      np.savetxt(\"gftt_rainy_matches_vs_time.csv\", matches_vs_time_list,delimiter =\", \",fmt ='% s')\n",
        "\n",
        "      print(\"Avg. fps:\",sum(fps_list)/len(fps_list))\n",
        "      np.savetxt(\"gftt_rainy_fps_vs_time.csv\", fps_vs_time_list,delimiter =\", \",fmt ='% s')\n",
        "      \n",
        "      t = time.time() - start_time\n",
        "      print(\"Execution Time:\",t,\"secs\")\n",
        "      print(\"Finished!\")\n",
        "      \n",
        "      break"
      ],
      "execution_count": null,
      "outputs": [
        {
          "output_type": "stream",
          "text": [
            "Avg. Keypoints Left: 382.402\n",
            "Avg. Keypoints Right: 413.118\n",
            "Avg. Matches: 202.384\n",
            "Avg. fps: 53.198\n",
            "Execution Time: 11.641329050064087 secs\n",
            "Finished!\n"
          ],
          "name": "stdout"
        }
      ]
    }
  ]
}